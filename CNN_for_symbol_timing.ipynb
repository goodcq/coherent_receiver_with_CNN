{
  "nbformat": 4,
  "nbformat_minor": 0,
  "metadata": {
    "colab": {
      "name": "CNN_for_symbol_timing.ipynb",
      "version": "0.3.2",
      "provenance": [],
      "collapsed_sections": [],
      "include_colab_link": true
    },
    "kernelspec": {
      "name": "python3",
      "display_name": "Python 3"
    },
    "accelerator": "GPU"
  },
  "cells": [
    {
      "cell_type": "markdown",
      "metadata": {
        "id": "view-in-github",
        "colab_type": "text"
      },
      "source": [
        "<a href=\"https://colab.research.google.com/github/planewave/coherent_receiver_with_CNN/blob/master/CNN_for_symbol_timing.ipynb\" target=\"_parent\"><img src=\"https://colab.research.google.com/assets/colab-badge.svg\" alt=\"Open In Colab\"/></a>"
      ]
    },
    {
      "metadata": {
        "id": "ZJMzfho8Zul6",
        "colab_type": "code",
        "colab": {
          "base_uri": "https://localhost:8080/",
          "height": 70
        },
        "outputId": "4ffdf57c-4632-42f2-f603-8721524c7728"
      },
      "cell_type": "code",
      "source": [
        "!pip3 -q install torch\n",
        "import torch\n",
        "from torch import nn\n",
        "import numpy as np\n",
        "import matplotlib.pyplot as plt\n",
        "print(torch.__version__)\n",
        "USE_CUDA = True"
      ],
      "execution_count": 1,
      "outputs": [
        {
          "output_type": "stream",
          "text": [
            "tcmalloc: large alloc 1073750016 bytes == 0x58c48000 @  0x7f3c822952a4 0x594e17 0x626104 0x51190a 0x4f5277 0x510c78 0x5119bd 0x4f5277 0x4f3338 0x510fb0 0x5119bd 0x4f5277 0x4f3338 0x510fb0 0x5119bd 0x4f5277 0x4f3338 0x510fb0 0x5119bd 0x4f6070 0x510c78 0x5119bd 0x4f5277 0x4f3338 0x510fb0 0x5119bd 0x4f6070 0x4f3338 0x510fb0 0x5119bd 0x4f6070\n",
            "0.4.1\n"
          ],
          "name": "stdout"
        }
      ]
    },
    {
      "metadata": {
        "id": "GG8-MaGJvnBq",
        "colab_type": "code",
        "colab": {}
      },
      "cell_type": "code",
      "source": [
        "def rrcosdesign(beta, span, sps):\n",
        "    \"\"\"\n",
        "    returns the coefficients, that correspond to a square-root raised \n",
        "    cosine FIR filter with rolloff factor specified by beta. The filter \n",
        "    is truncated to span symbols, and each symbol period contains sps \n",
        "    samples. The order of the filter, sps*span, must be even. \n",
        "    modified from:\n",
        "    https://github.com/veeresht/CommPy/blob/master/commpy/filters.py\n",
        "    \"\"\"\n",
        "    n = sps*span\n",
        "    rrc = np.zeros(n, dtype=float)\n",
        "        \n",
        "    for x in np.arange(n):\n",
        "        t = (x-n/2)/sps\n",
        "        if t == 0.0:\n",
        "            rrc[x] = 1.0 - beta + (4*beta/np.pi)\n",
        "        elif beta != 0 and t == 1/(4*beta):\n",
        "            rrc[x] = ((beta/np.sqrt(2))*(((1+2/np.pi)*(np.sin(np.pi/\n",
        "                     (4*beta)))) + ((1-2/np.pi)*(np.cos(np.pi/(4*beta))))))\n",
        "        elif beta != 0 and t == -1/(4*beta):\n",
        "            rrc[x] = ((beta/np.sqrt(2))*(((1+2/np.pi)*(np.sin(np.pi/\n",
        "                     (4*beta)))) + ((1-2/np.pi)*(np.cos(np.pi/(4*beta))))))\n",
        "        else:\n",
        "            rrc[x] = ((np.sin(np.pi*t*(1-beta))+4*beta*(t)*np.cos(np.pi*\n",
        "                     t*(1+beta)))/(np.pi*t*(1-(4*beta*t)*(4*beta*t))))\n",
        "        \n",
        "    return rrc\n",
        "\n",
        "def upsample(x, n):\n",
        "    \"\"\"\n",
        "    increase sample rate by integer factor\n",
        "    y = upsample(x,n) increases the sample rate of x by \n",
        "    inserting n – 1 zeros between samples.\n",
        "    input is 1D numpy array\n",
        "    \n",
        "    \"\"\"\n",
        "    zo = np.zeros((len(x), n), dtype=x.dtype)\n",
        "    zo[:,0] += x\n",
        "    return zo.flatten()"
      ],
      "execution_count": 0,
      "outputs": []
    },
    {
      "metadata": {
        "id": "CycCPYFrwGoV",
        "colab_type": "code",
        "colab": {
          "base_uri": "https://localhost:8080/",
          "height": 34
        },
        "outputId": "05f57ee4-7326-41fd-b765-8403d10962a6"
      },
      "cell_type": "code",
      "source": [
        "def gen_sig():\n",
        "    M = 4\n",
        "    SYMB = 16  # num of symbols\n",
        "    BATCH = 256\n",
        "    beta, span, sps = 0.4, 6, 16\n",
        "    rrc = rrcosdesign(beta, span, sps)\n",
        "#     sig_batch = np.array([])\n",
        "    msg = np.random.randint(0, M, SYMB*BATCH)\n",
        "    sig_mod = np.exp(1j*(np.pi/M+msg*(2*np.pi/M)))\n",
        "    sig_up = upsample(sig_mod, sps)  # SYMB*sps (512,)\n",
        "    sig_pulse = np.convolve(sig_up, rrc)[sps*3:-sps*3+1]\n",
        "    sig = sig_pulse.reshape((BATCH, 1, SYMB*sps))\n",
        "    offset = np.random.randint(-6, 6, BATCH)\n",
        "    for ind in range(BATCH):\n",
        "        sig[ind, :, :] = np.roll(sig[ind, :, :], offset(ind))\n",
        "#     msg = msg.reshape((BATCH, 1, SYMB))\n",
        "    return sig, offset       \n",
        "\n",
        "sig, msg = gen_sig()   \n",
        "sig.shape\n",
        "# plt.plot(sig.imag, '-o')\n",
        "# msg"
      ],
      "execution_count": 63,
      "outputs": [
        {
          "output_type": "execute_result",
          "data": {
            "text/plain": [
              "(256, 1, 256)"
            ]
          },
          "metadata": {
            "tags": []
          },
          "execution_count": 63
        }
      ]
    },
    {
      "metadata": {
        "id": "DErSJXL_keLF",
        "colab_type": "code",
        "colab": {}
      },
      "cell_type": "code",
      "source": [
        "class Net(nn.Module):\n",
        "    def __init__(self):\n",
        "        super(Net, self).__init__()\n",
        "        \n",
        "        self.sto_cnn = nn.Sequential(\n",
        "            nn.Conv2d(1, 32, 3, 1, 1),\n",
        "            nn.ReLU(),\n",
        "            nn.MaxPool1d(2),\n",
        "            \n",
        "            nn.Conv2d(32, 16, 3, 1, 1),\n",
        "            nn.ReLU(),\n",
        "            nn.MaxPool1d(2),\n",
        "            \n",
        "            nn.Conv2d(16, 8, 3, 1, 1),\n",
        "            nn.ReLU(),\n",
        "         \n",
        "        self.lin = nn.Linear(32, 1)    \n",
        "        )\n",
        "    def forward(self, sig):\n",
        "        out_cnn = self.sto_cnn(sig)\n",
        "        out_mean = out_cnn.squeeze().mean(2)\n",
        "        return nn.functional.softmax(out_mean, dim=1)\n",
        "    \n",
        "net = Net()\n",
        "if USE_CUDA:\n",
        "    offset = offset.cuda()\n",
        "    sig = sig.cuda()\n",
        "    net.cuda() # put it before optimizer\n",
        "loss_func = nn.CrossEntropyLoss()\n",
        "optimizer = torch.optim.Adam(net.parameters(), lr=0.005)"
      ],
      "execution_count": 0,
      "outputs": []
    },
    {
      "metadata": {
        "id": "v3CmtWmjpzWL",
        "colab_type": "text"
      },
      "cell_type": "markdown",
      "source": [
        "# Training"
      ]
    },
    {
      "metadata": {
        "id": "DoQHvufjprCj",
        "colab_type": "code",
        "colab": {}
      },
      "cell_type": "code",
      "source": [
        "for epoch in range(NUM_EPO):\n",
        "    netout = net(sig)\n",
        "    target = offset\n",
        "    loss = loss_func(netout, target)\n",
        "    optimizer.zero_grad()                           # clear gradients for this training step\n",
        "    loss.backward()                                 # backpropagation, compute gradients\n",
        "    optimizer.step()\n",
        "    if epoch%5 == 0:\n",
        "        prediction = torch.max(F.softmax(netout, 1), 1)[1]\n",
        "        accu = torch.sum(prediction.data == target.data)/prediction.shape[0]\n",
        "        print('Epoch:', epoch, 'loss:', loss, 'accu', accu)\n"
      ],
      "execution_count": 0,
      "outputs": []
    },
    {
      "metadata": {
        "id": "6wDgXaBHS5ff",
        "colab_type": "code",
        "colab": {
          "base_uri": "https://localhost:8080/",
          "height": 69
        },
        "outputId": "b0e88864-2316-42aa-95c5-83ab26606755"
      },
      "cell_type": "code",
      "source": [
        "sig = (dataRead['x'])\n",
        "sig = Variable(torch.from_numpy(sig))\n",
        "m = nn.Sequential(\n",
        "            nn.Conv2d( 1, 16, kernel_size=(5, 1), stride=(1, 1), padding=(2, 0)),\n",
        "            nn.ReLU(),\n",
        "            nn.Conv2d(16, 16, kernel_size=(5, 1), stride=(1, 1), padding=(2, 0)),\n",
        "            nn.ReLU(),\n",
        "            nn.Conv2d(16,  4, kernel_size=(3, 1), stride=(1, 1), padding=(1, 0)),\n",
        "            nn.ReLU(),\n",
        "            nn.Conv2d( 4,  1, kernel_size=(3, 1), stride=(1, 1), padding=(1, 0)),\n",
        "            nn.ReLU(),\n",
        "        )\n",
        "output = m(sig)\n",
        "output = output.squeeze().mean(2)\n",
        "output.shape\n",
        "\n",
        "# m2 = nn.Softmax(dim=1)\n",
        "# output = m2(output)\n",
        "# output[0,:]\n",
        "# out_cnn = self.sto_cnn(sig)\n",
        "# out_mean = out_cnn.squeeze().mean(2)\n",
        "netout = nn.functional.softmax(output, dim=1)\n",
        "prediction = torch.max(F.softmax(netout, 1), 1)[1]\n",
        "offset = dataRead['offset']\n",
        "target = Variable(torch.from_numpy(offset).squeeze())\n",
        "accu = torch.sum(prediction.data == target.data)/prediction.shape[0]\n",
        "accu\n",
        "\n",
        "# print(target)\n",
        "loss_func = nn.CrossEntropyLoss()\n",
        "\n",
        "loss = loss_func(netout, target)\n",
        "loss"
      ],
      "execution_count": 13,
      "outputs": [
        {
          "output_type": "execute_result",
          "data": {
            "text/plain": [
              "Variable containing:\n",
              " 2.7727\n",
              "[torch.FloatTensor of size 1]"
            ]
          },
          "metadata": {
            "tags": []
          },
          "execution_count": 13
        }
      ]
    }
  ]
}