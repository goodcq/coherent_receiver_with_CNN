{
  "nbformat": 4,
  "nbformat_minor": 0,
  "metadata": {
    "colab": {
      "name": "Passband_Demodulation.ipynb",
      "version": "0.3.2",
      "provenance": [],
      "collapsed_sections": []
    },
    "kernelspec": {
      "name": "python3",
      "display_name": "Python 3"
    },
    "accelerator": "GPU"
  },
  "cells": [
    {
      "cell_type": "markdown",
      "metadata": {
        "id": "view-in-github",
        "colab_type": "text"
      },
      "source": [
        "[View in Colaboratory](https://colab.research.google.com/github/planewave/coherent_receiver_with_CNN/blob/master/Passband_Demodulation.ipynb)"
      ]
    },
    {
      "metadata": {
        "id": "GN18VoAILIv2",
        "colab_type": "code",
        "colab": {}
      },
      "cell_type": "code",
      "source": [
        "import numpy as np\n",
        "import matplotlib.pyplot as plt"
      ],
      "execution_count": 0,
      "outputs": []
    },
    {
      "metadata": {
        "id": "1LClpbZ1AFbi",
        "colab_type": "code",
        "colab": {
          "base_uri": "https://localhost:8080/",
          "height": 55
        },
        "outputId": "5df9d481-e287-4718-eb05-e562456dcf89"
      },
      "cell_type": "code",
      "source": [
        "from os import path\n",
        "from wheel.pep425tags import get_abbr_impl, get_impl_ver, get_abi_tag\n",
        "platform = '{}{}-{}'.format(get_abbr_impl(), get_impl_ver(), get_abi_tag())\n",
        "accelerator = 'cu90' if path.exists('/opt/bin/nvidia-smi') else 'cpu'\n",
        "!pip -q install http://download.pytorch.org/whl/{accelerator}/torch-0.4.0-{platform}-linux_x86_64.whl\n",
        "import torch\n",
        "from torch import nn"
      ],
      "execution_count": 2,
      "outputs": [
        {
          "output_type": "stream",
          "text": [
            "tcmalloc: large alloc 1073750016 bytes == 0x5d20e000 @  0x7f865476a1c4 0x46d6a4 0x5fcbcc 0x4c494d 0x54f3c4 0x553aaf 0x54e4c8 0x54f4f6 0x553aaf 0x54efc1 0x54f24d 0x553aaf 0x54efc1 0x54f24d 0x553aaf 0x54efc1 0x54f24d 0x551ee0 0x54e4c8 0x54f4f6 0x553aaf 0x54efc1 0x54f24d 0x551ee0 0x54efc1 0x54f24d 0x551ee0 0x54e4c8 0x54f4f6 0x553aaf 0x54e4c8\r\n"
          ],
          "name": "stdout"
        }
      ]
    },
    {
      "metadata": {
        "id": "NutEXDdqOUEp",
        "colab_type": "code",
        "colab": {}
      },
      "cell_type": "code",
      "source": [
        "#@title\n",
        "def rrcosdesign(beta, span, sps):\n",
        "    \"\"\"\n",
        "    returns the coefficients, that correspond to a square-root raised \n",
        "    cosine FIR filter with rolloff factor specified by beta. The filter \n",
        "    is truncated to span symbols, and each symbol period contains sps \n",
        "    samples. The order of the filter, sps*span, must be even. \n",
        "    modified from:\n",
        "    https://github.com/veeresht/CommPy/blob/master/commpy/filters.py\n",
        "    \"\"\"\n",
        "    n = sps*span\n",
        "    rrc = np.zeros(n, dtype=float)\n",
        "        \n",
        "    for x in np.arange(n):\n",
        "        t = (x-n/2)/sps\n",
        "        if t == 0.0:\n",
        "            rrc[x] = 1.0 - beta + (4*beta/np.pi)\n",
        "        elif beta != 0 and t == 1/(4*beta):\n",
        "            rrc[x] = ((beta/np.sqrt(2))*(((1+2/np.pi)*(np.sin(np.pi/\n",
        "                     (4*beta)))) + ((1-2/np.pi)*(np.cos(np.pi/(4*beta))))))\n",
        "        elif beta != 0 and t == -1/(4*beta):\n",
        "            rrc[x] = ((beta/np.sqrt(2))*(((1+2/np.pi)*(np.sin(np.pi/\n",
        "                     (4*beta)))) + ((1-2/np.pi)*(np.cos(np.pi/(4*beta))))))\n",
        "        else:\n",
        "            rrc[x] = ((np.sin(np.pi*t*(1-beta))+4*beta*(t)*np.cos(np.pi*\n",
        "                     t*(1+beta)))/(np.pi*t*(1-(4*beta*t)*(4*beta*t))))\n",
        "        \n",
        "    return rrc\n",
        "\n",
        "def upsample(x, n):\n",
        "    \"\"\"\n",
        "    increase sample rate by integer factor\n",
        "    y = upsample(x,n) increases the sample rate of x by \n",
        "    inserting n – 1 zeros between samples.\n",
        "    input is 1D numpy array\n",
        "    \n",
        "    \"\"\"\n",
        "    zo = np.zeros((len(x), n), dtype=x.dtype)\n",
        "    zo[:,0] += x\n",
        "    return zo.flatten()"
      ],
      "execution_count": 0,
      "outputs": []
    },
    {
      "metadata": {
        "id": "Qr4Z566bBuY5",
        "colab_type": "code",
        "colab": {}
      },
      "cell_type": "code",
      "source": [
        "# get the CNN, optimizer and loss func ready\n",
        "CUDA = True\n",
        "LR = 1e-4 # learning rate\n",
        "dtype = torch.float\n",
        "\n",
        "class NET(nn.Module):\n",
        "    def __init__(self):\n",
        "        super(NET, self).__init__()\n",
        "        self.cnn = nn.Sequential(\n",
        "            nn.Conv1d( 1, 16, 7, 1, 3),\n",
        "            nn.ReLU(),\n",
        "            nn.MaxPool1d(2),\n",
        "            nn.Conv1d(16, 16, 5, 1, 2),\n",
        "            nn.ReLU(),\n",
        "            nn.MaxPool1d(2),\n",
        "            nn.Conv1d(16, 8, 3, 1, 1),\n",
        "            nn.ReLU(),\n",
        "            nn.MaxPool1d(2),\n",
        "            nn.Conv1d( 8, 4, 3, 1, 1),\n",
        "            nn.ReLU(),\n",
        "            )\n",
        "\n",
        "        self.lin = nn.Linear(4*10, 1) \n",
        "\n",
        "    def forward(self, x_in):\n",
        "        cnn_out = self.cnn(x_in)\n",
        "        lin_out = self.lin(cnn_out.view(cnn_out.size(0), -1))\n",
        "        return lin_out\n",
        "    \n",
        "net = NET()\n",
        "\n",
        "if CUDA:\n",
        "    device = torch.device('cuda:0')\n",
        "    net.cuda()\n",
        "\n",
        "optimizer = torch.optim.Adam(net.parameters(), lr=LR)\n",
        "# loss_func = nn.MSELoss()\n",
        "def circ_mse_loss(input, target, cyc):\n",
        "    \"\"\"\n",
        "    a circular MSE loss \n",
        "    \"\"\"\n",
        "    dif = torch.abs(input-target)\n",
        "    dif[dif>cyc/2] = dif[dif>cyc/2]-cyc\n",
        "    return torch.mean(dif**2)\n",
        "\n",
        "\n",
        "\n",
        "# sanity test\n",
        "# beta, span, sps = 0.4, 5, 16\n",
        "# x = torch.rand(256, 1, span*sps, dtype = dtype, device = device)\n",
        "# target = torch.rand(256, 1, dtype = dtype, device = device)\n",
        "# y_est = net(x)\n",
        "# loss1 = loss_func(y_est, target)\n",
        "# loss2 = torch.mean((y_est- target)**2)\n",
        "# print(loss1, loss2)\n"
      ],
      "execution_count": 0,
      "outputs": []
    },
    {
      "metadata": {
        "id": "FtPEYlxoOExI",
        "colab_type": "code",
        "colab": {}
      },
      "cell_type": "code",
      "source": [
        "# Main program starts here\n",
        "# get the data ready\n",
        "M = 4 # QPSK\n",
        "SYMB = 512 # num of symbols\n",
        "BATCH = 256\n",
        "beta, span, sps = 0.4, 5, 16\n",
        "rrc = rrcosdesign(beta, span, sps)\n",
        "fc = 5.25e3 # carrier freq\n",
        "baud = 1.0e3 \n",
        "fs = baud*sps # signal sample rate\n",
        "\n",
        "sig_batch = np.zeros((BATCH, 1, SYMB*sps+rrc.size-1))\n",
        "msg_batch = np.zeros((BATCH, SYMB))\n",
        "for batch in range(BATCH):\n",
        "    msg = np.random.randint(0, M, SYMB)\n",
        "    sig_mod = np.exp(1j*(np.pi/M+msg*(2*np.pi/M)))\n",
        "    # pluse shaping \n",
        "    sig_up = upsample(sig_mod, sps)\n",
        "    sig_pulse = np.convolve(sig_up, rrc)\n",
        "    # up convert\n",
        "    samp_len = len(sig_pulse)\n",
        "    time = np.arange(samp_len)/fs\n",
        "    carrier = np.exp(1j*(2*np.pi*fc*time))\n",
        "    sig_pass = np.real(sig_pulse*carrier)\n",
        "    noise = 0.3*np.random.randn(sig_pass.size)\n",
        "    sig_pass = sig_pass+noise\n",
        "    sig_batch[batch, 0, :] = sig_pass\n",
        "    msg_batch[batch, :] = msg\n",
        "\n",
        "sig_input = torch.tensor(sig_batch, dtype = dtype, device=device)\n",
        "# target = torch.tensor(msg_batch, dtype = torch.long, device=device)\n",
        "target = torch.tensor(msg_batch, dtype = dtype, device=device)\n"
      ],
      "execution_count": 0,
      "outputs": []
    },
    {
      "metadata": {
        "id": "rJBo-vi5Dpur",
        "colab_type": "code",
        "colab": {
          "base_uri": "https://localhost:8080/",
          "height": 104
        },
        "outputId": "1dbddba7-9ce3-42ef-cc05-aec74d49c2c7"
      },
      "cell_type": "code",
      "source": [
        "# training \n",
        "for epoch in range(5):\n",
        "    for symb in range(SYMB):\n",
        "        y_est = net(sig_input[:, :, symb*sps : symb*sps+sps*span])\n",
        "        y_est = (y_est-1*symb)%4\n",
        "        loss = circ_mse_loss(y_est.squeeze(), target[:, symb], M)\n",
        "        optimizer.zero_grad()\n",
        "        loss.backward()\n",
        "        \n",
        "        optimizer.step()\n",
        "#         if symb%50==0:\n",
        "    print(\"epoch = \",epoch, \"; loss = %7.4f\"% loss.item())"
      ],
      "execution_count": 20,
      "outputs": [
        {
          "output_type": "stream",
          "text": [
            "epoch =  0 ; loss =  1.0079\n",
            "epoch =  1 ; loss =  0.0680\n",
            "epoch =  2 ; loss =  0.0553\n",
            "epoch =  3 ; loss =  0.0496\n",
            "epoch =  4 ; loss =  0.0435\n"
          ],
          "name": "stdout"
        }
      ]
    },
    {
      "metadata": {
        "id": "v5PdV1rjoPIF",
        "colab_type": "code",
        "colab": {}
      },
      "cell_type": "code",
      "source": [
        ""
      ],
      "execution_count": 0,
      "outputs": []
    }
  ]
}