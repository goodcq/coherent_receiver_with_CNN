{
  "nbformat": 4,
  "nbformat_minor": 0,
  "metadata": {
    "colab": {
      "name": "Passband_Demodulation.ipynb",
      "version": "0.3.2",
      "provenance": [],
      "collapsed_sections": []
    },
    "kernelspec": {
      "name": "python3",
      "display_name": "Python 3"
    },
    "accelerator": "GPU"
  },
  "cells": [
    {
      "cell_type": "markdown",
      "metadata": {
        "id": "view-in-github",
        "colab_type": "text"
      },
      "source": [
        "[View in Colaboratory](https://colab.research.google.com/github/planewave/coherent_receiver_with_CNN/blob/master/Passband_Demodulation.ipynb)"
      ]
    },
    {
      "metadata": {
        "id": "tqOKyOf8NQ8B",
        "colab_type": "text"
      },
      "cell_type": "markdown",
      "source": [
        "# Passband signal demodulation\n",
        "## No multipath/ISI\n",
        "1. ~~fc is integer multiple of baud rate. Demodulation by a CNN classifier.~~\n",
        "2. fc is *not* integer multiple of baud rate. A known reference phase (generalized phase offset) will be added to compensate for the phase jump between symbols.\n",
        "3. The phase offset will be *learnt* from the last 32 soft decision.\n",
        "\n",
        "## With multipath/ISI\n",
        "Add another CNN to impliment decision feedback\n"
      ]
    },
    {
      "metadata": {
        "id": "GN18VoAILIv2",
        "colab_type": "code",
        "colab": {}
      },
      "cell_type": "code",
      "source": [
        "import numpy as np\n",
        "import matplotlib.pyplot as plt"
      ],
      "execution_count": 0,
      "outputs": []
    },
    {
      "metadata": {
        "id": "1LClpbZ1AFbi",
        "colab_type": "code",
        "colab": {
          "base_uri": "https://localhost:8080/",
          "height": 55
        },
        "outputId": "6a38c625-e8ea-4b14-f95e-a90365d0b4f6"
      },
      "cell_type": "code",
      "source": [
        "from os import path\n",
        "from wheel.pep425tags import get_abbr_impl, get_impl_ver, get_abi_tag\n",
        "platform = '{}{}-{}'.format(get_abbr_impl(), get_impl_ver(), get_abi_tag())\n",
        "accelerator = 'cu90' if path.exists('/opt/bin/nvidia-smi') else 'cpu'\n",
        "!pip -q install http://download.pytorch.org/whl/{accelerator}/torch-0.4.0-{platform}-linux_x86_64.whl\n",
        "import torch\n",
        "from torch import nn"
      ],
      "execution_count": 2,
      "outputs": [
        {
          "output_type": "stream",
          "text": [
            "tcmalloc: large alloc 1073750016 bytes == 0x5e330000 @  0x7f1ab42201c4 0x46d6a4 0x5fcbcc 0x4c494d 0x54f3c4 0x553aaf 0x54e4c8 0x54f4f6 0x553aaf 0x54efc1 0x54f24d 0x553aaf 0x54efc1 0x54f24d 0x553aaf 0x54efc1 0x54f24d 0x551ee0 0x54e4c8 0x54f4f6 0x553aaf 0x54efc1 0x54f24d 0x551ee0 0x54efc1 0x54f24d 0x551ee0 0x54e4c8 0x54f4f6 0x553aaf 0x54e4c8\r\n"
          ],
          "name": "stdout"
        }
      ]
    },
    {
      "metadata": {
        "id": "NutEXDdqOUEp",
        "colab_type": "code",
        "colab": {}
      },
      "cell_type": "code",
      "source": [
        "#@title\n",
        "def rrcosdesign(beta, span, sps):\n",
        "    \"\"\"\n",
        "    returns the coefficients, that correspond to a square-root raised \n",
        "    cosine FIR filter with rolloff factor specified by beta. The filter \n",
        "    is truncated to span symbols, and each symbol period contains sps \n",
        "    samples. The order of the filter, sps*span, must be even. \n",
        "    modified from:\n",
        "    https://github.com/veeresht/CommPy/blob/master/commpy/filters.py\n",
        "    \"\"\"\n",
        "    n = sps*span\n",
        "    rrc = np.zeros(n, dtype=float)\n",
        "        \n",
        "    for x in np.arange(n):\n",
        "        t = (x-n/2)/sps\n",
        "        if t == 0.0:\n",
        "            rrc[x] = 1.0 - beta + (4*beta/np.pi)\n",
        "        elif beta != 0 and t == 1/(4*beta):\n",
        "            rrc[x] = ((beta/np.sqrt(2))*(((1+2/np.pi)*(np.sin(np.pi/\n",
        "                     (4*beta)))) + ((1-2/np.pi)*(np.cos(np.pi/(4*beta))))))\n",
        "        elif beta != 0 and t == -1/(4*beta):\n",
        "            rrc[x] = ((beta/np.sqrt(2))*(((1+2/np.pi)*(np.sin(np.pi/\n",
        "                     (4*beta)))) + ((1-2/np.pi)*(np.cos(np.pi/(4*beta))))))\n",
        "        else:\n",
        "            rrc[x] = ((np.sin(np.pi*t*(1-beta))+4*beta*(t)*np.cos(np.pi*\n",
        "                     t*(1+beta)))/(np.pi*t*(1-(4*beta*t)*(4*beta*t))))\n",
        "        \n",
        "    return rrc\n",
        "\n",
        "def demod_qpsk(sig):\n",
        "    \"\"\"\n",
        "    demodulation of QPSK signal\n",
        "    complex 1D array input\n",
        "    soft max decision output\n",
        "    \"\"\"\n",
        "    out = np.zeros((sig.size, 4))\n",
        "    x = sig.real\n",
        "    y = sig.imag\n",
        "    out[:, 0] = y*(x>y)+x*(x<=y)\n",
        "    out[:, 1] = y*(-x>y)-x*(-x<=y)\n",
        "    out[:, 2] = -y*(-x>-y)-x*(-x<=-y)\n",
        "    out[:, 3] = -y*(x>-y)+x*(x<=-y)\n",
        "    e_x = np.exp(out-out.max(axis = 1).reshape(-1,1))\n",
        "    soft_dc = e_x/e_x.sum(axis = 1).reshape(-1,1)\n",
        "    hard_dc = np.argmax(soft_dc, axis=1)\n",
        "    return hard_dc, soft_dc\n",
        "\n",
        "def upsample(x, n):\n",
        "    \"\"\"\n",
        "    increase sample rate by integer factor\n",
        "    y = upsample(x,n) increases the sample rate of x by \n",
        "    inserting n – 1 zeros between samples.\n",
        "    input is 1D numpy array\n",
        "    \n",
        "    \"\"\"\n",
        "    zo = np.zeros((len(x), n), dtype=x.dtype)\n",
        "    zo[:,0] += x\n",
        "    return zo.flatten()"
      ],
      "execution_count": 0,
      "outputs": []
    },
    {
      "metadata": {
        "id": "Qr4Z566bBuY5",
        "colab_type": "code",
        "colab": {}
      },
      "cell_type": "code",
      "source": [
        "CUDA = True\n",
        "LR = 1e-4 # learning rate\n",
        "dtype = torch.float\n",
        "\n",
        "class NET(nn.Module):\n",
        "    def __init__(self):\n",
        "        super(NET, self).__init__()\n",
        "        self.cnn = nn.Sequential(\n",
        "            nn.Conv1d( 1, 16, 7, 1, 3),\n",
        "            nn.ReLU(),\n",
        "            nn.MaxPool1d(2),\n",
        "            nn.Conv1d(16, 16, 5, 1, 2),\n",
        "            nn.ReLU(),\n",
        "            nn.MaxPool1d(2),\n",
        "            nn.Conv1d(16, 8, 3, 1, 1),\n",
        "            nn.ReLU(),\n",
        "            nn.MaxPool1d(2),\n",
        "            nn.Conv1d( 8, 4, 3, 1, 1),\n",
        "            nn.ReLU(),\n",
        "            )\n",
        "\n",
        "        self.lin = nn.Linear(4*10, 4) # 32 classes\n",
        "\n",
        "    def forward(self, x_in):\n",
        "        cnn_out = self.cnn(x_in)\n",
        "        lin_out = self.lin(cnn_out.view(cnn_out.size(0), -1))\n",
        "        return lin_out\n",
        "    \n",
        "net = NET()\n",
        "\n",
        "if CUDA:\n",
        "    device = torch.device('cuda:0')\n",
        "    net.cuda()\n",
        "\n",
        "optimizer = torch.optim.Adam(net.parameters(), lr=LR)\n",
        "# loss_func = nn.MSELoss()\n",
        "loss_func = nn.CrossEntropyLoss()\n",
        "# x = torch.rand(256, 1, span*sps, dtype = dtype, device = device)\n",
        "# net(x).shape\n",
        "# torch.Size([256, 4])"
      ],
      "execution_count": 0,
      "outputs": []
    },
    {
      "metadata": {
        "id": "-1uQtTSBx1TV",
        "colab_type": "code",
        "colab": {}
      },
      "cell_type": "code",
      "source": [
        "def roll(tensor, shift, axis):\n",
        "    \"\"\"\n",
        "    Implementation of function like `numpy.roll`\n",
        "    https://discuss.pytorch.org/t/implementation-of-function-like-numpy-roll/964/6\n",
        "    \"\"\"\n",
        "    if shift == 0:\n",
        "        return tensor\n",
        "\n",
        "    if axis < 0:\n",
        "        axis += tensor.dim()\n",
        "\n",
        "    dim_size = tensor.size(axis)\n",
        "    after_start = dim_size - shift\n",
        "    if shift < 0:\n",
        "        after_start = -shift\n",
        "        shift = dim_size - abs(shift)\n",
        "\n",
        "    before = tensor.narrow(axis, 0, dim_size - shift)\n",
        "    after = tensor.narrow(axis, after_start, shift)\n",
        "    # https://pytorch.org/docs/stable/tensors.html?highlight=narrow#torch.Tensor.narrow\n",
        "    return torch.cat([after, before], axis)"
      ],
      "execution_count": 0,
      "outputs": []
    },
    {
      "metadata": {
        "id": "FtPEYlxoOExI",
        "colab_type": "code",
        "colab": {}
      },
      "cell_type": "code",
      "source": [
        "M = 4 # QPSK\n",
        "SYMB = 512 # num of symbols\n",
        "BATCH = 256\n",
        "beta, span, sps = 0.4, 5, 16\n",
        "rrc = rrcosdesign(beta, span, sps)\n",
        "fc = 5.0e3 # carrier freq\n",
        "baud = 1e3 \n",
        "fs = baud*sps # signal sample rate\n",
        "\n",
        "sig_batch = np.zeros((BATCH, 1, SYMB*sps+rrc.size-1))\n",
        "msg_batch = np.zeros((BATCH, SYMB))\n",
        "for batch in range(BATCH):\n",
        "    msg = np.random.randint(0, M, SYMB)\n",
        "    sig_mod = np.exp(1j*(np.pi/M+msg*(2*np.pi/M)))\n",
        "    # pluse shaping \n",
        "    sig_up = upsample(sig_mod, sps)\n",
        "    sig_pulse = np.convolve(sig_up, rrc)\n",
        "    # up convert\n",
        "    samp_len = len(sig_pulse)\n",
        "    time = np.arange(samp_len)/fs\n",
        "    carrier = np.exp(1j*(2*np.pi*fc*time))\n",
        "    sig_pass = np.real(sig_pulse*carrier)\n",
        "    noise = 0.3*np.random.randn(sig_pass.size)\n",
        "    sig_pass = sig_pass+noise\n",
        "    sig_batch[batch, 0, :] = sig_pass\n",
        "    msg_batch[batch, :] = msg\n",
        "\n",
        "sig_input = torch.tensor(sig_batch, dtype = dtype, device=device)\n",
        "target = torch.tensor(msg_batch, dtype = torch.long, device=device)\n"
      ],
      "execution_count": 0,
      "outputs": []
    },
    {
      "metadata": {
        "id": "rJBo-vi5Dpur",
        "colab_type": "code",
        "colab": {
          "base_uri": "https://localhost:8080/",
          "height": 104
        },
        "outputId": "f39ab08d-90d1-4945-9be1-eba16422afb3"
      },
      "cell_type": "code",
      "source": [
        "for epoch in range(5):\n",
        "    for symb in range(SYMB):\n",
        "        y_est = net(sig_input[:, :, symb*sps : symb*sps+sps*span])\n",
        "        loss = loss_func(y_est, target[:, symb])\n",
        "        optimizer.zero_grad()\n",
        "        loss.backward()\n",
        "        \n",
        "        optimizer.step()\n",
        "#         if symb%50==0:\n",
        "    print(\"epoch = \",epoch, \"; loss = %7.4f\"% loss.item())"
      ],
      "execution_count": 19,
      "outputs": [
        {
          "output_type": "stream",
          "text": [
            "epoch =  0 ; loss =  0.8585\n",
            "epoch =  1 ; loss =  0.5831\n",
            "epoch =  2 ; loss =  0.4124\n",
            "epoch =  3 ; loss =  0.2657\n",
            "epoch =  4 ; loss =  0.1780\n"
          ],
          "name": "stdout"
        }
      ]
    },
    {
      "metadata": {
        "id": "bPoOQp1dSl5Q",
        "colab_type": "text"
      },
      "cell_type": "markdown",
      "source": [
        "the estimated phase offset is a float number "
      ]
    },
    {
      "metadata": {
        "id": "v5PdV1rjoPIF",
        "colab_type": "code",
        "colab": {}
      },
      "cell_type": "code",
      "source": [
        ""
      ],
      "execution_count": 0,
      "outputs": []
    }
  ]
}