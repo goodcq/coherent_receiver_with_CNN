{
  "nbformat": 4,
  "nbformat_minor": 0,
  "metadata": {
    "colab": {
      "name": "equalization.ipynb",
      "version": "0.3.2",
      "provenance": []
    },
    "kernelspec": {
      "name": "python3",
      "display_name": "Python 3"
    },
    "accelerator": "GPU"
  },
  "cells": [
    {
      "cell_type": "markdown",
      "metadata": {
        "id": "view-in-github",
        "colab_type": "text"
      },
      "source": [
        "[View in Colaboratory](https://colab.research.google.com/github/planewave/coherent_receiver_with_CNN/blob/master/equalization.ipynb)"
      ]
    },
    {
      "metadata": {
        "id": "BJ1kM7UQan4C",
        "colab_type": "code",
        "colab": {}
      },
      "cell_type": "code",
      "source": [
        "import numpy as np\n",
        "import matplotlib.pyplot as plt\n",
        "# from matplotlib import pyplot as plt"
      ],
      "execution_count": 0,
      "outputs": []
    },
    {
      "metadata": {
        "id": "8IkAZQKaZ-2-",
        "colab_type": "code",
        "colab": {}
      },
      "cell_type": "code",
      "source": [
        "def rrcosdesign(beta, span, sps):\n",
        "    \"\"\"\n",
        "    returns the coefficients, that correspond to a square-root raised \n",
        "    cosine FIR filter with rolloff factor specified by beta. The filter \n",
        "    is truncated to span symbols, and each symbol period contains sps \n",
        "    samples. The order of the filter, sps*span, must be even. \n",
        "    modified from:\n",
        "    https://github.com/veeresht/CommPy/blob/master/commpy/filters.py\n",
        "    \"\"\"\n",
        "    n = sps*span\n",
        "    rrc = np.zeros(n, dtype=float)\n",
        "        \n",
        "    for x in np.arange(n):\n",
        "        t = (x-n/2)/sps\n",
        "        if t == 0.0:\n",
        "            rrc[x] = 1.0 - beta + (4*beta/np.pi)\n",
        "        elif beta != 0 and t == 1/(4*beta):\n",
        "            rrc[x] = ((beta/np.sqrt(2))*(((1+2/np.pi)*(np.sin(np.pi/\n",
        "                     (4*beta)))) + ((1-2/np.pi)*(np.cos(np.pi/(4*beta))))))\n",
        "        elif beta != 0 and t == -1/(4*beta):\n",
        "            rrc[x] = ((beta/np.sqrt(2))*(((1+2/np.pi)*(np.sin(np.pi/\n",
        "                     (4*beta)))) + ((1-2/np.pi)*(np.cos(np.pi/(4*beta))))))\n",
        "        else:\n",
        "            rrc[x] = ((np.sin(np.pi*t*(1-beta))+4*beta*(t)*np.cos(np.pi*\n",
        "                     t*(1+beta)))/(np.pi*t*(1-(4*beta*t)*(4*beta*t))))\n",
        "        \n",
        "    return rrc\n",
        "\n",
        "def demod_qpsk(sig):\n",
        "    \"\"\"\n",
        "    demodulation of QPSK signal\n",
        "    complex 1D array input\n",
        "    soft max decision output\n",
        "    \"\"\"\n",
        "    out = np.zeros((sig.size, 4))\n",
        "    x = sig.real\n",
        "    y = sig.imag\n",
        "    out[:, 0] = y*(x>y)+x*(x<=y)\n",
        "    out[:, 1] = y*(-x>y)-x*(-x<=y)\n",
        "    out[:, 2] = -y*(-x>-y)-x*(-x<=-y)\n",
        "    out[:, 3] = -y*(x>-y)+x*(x<=-y)\n",
        "    e_x = np.exp(out-out.max(axis = 1).reshape(-1,1))\n",
        "    soft_dc = e_x/e_x.sum(axis = 1).reshape(-1,1)\n",
        "    hard_dc = np.argmax(soft_dc, axis=1)\n",
        "    return hard_dc, soft_dc\n",
        "\n",
        "def upsample(x, n):\n",
        "    \"\"\"\n",
        "    increase sample rate by integer factor\n",
        "    y = upsample(x,n) increases the sample rate of x by \n",
        "    inserting n – 1 zeros between samples.\n",
        "    input is 1D numpy array\n",
        "    \n",
        "    \"\"\"\n",
        "    zo = np.zeros((len(x), n), dtype=x.dtype)\n",
        "    zo[:,0] += x\n",
        "    return zo.flatten()"
      ],
      "execution_count": 0,
      "outputs": []
    },
    {
      "metadata": {
        "id": "7sK94qW7bQZQ",
        "colab_type": "code",
        "colab": {}
      },
      "cell_type": "code",
      "source": [
        "M = 4\n",
        "SYMB = 512 # num of symbols\n",
        "msg = np.random.randint(0, M, SYMB)\n",
        "sig_mod = np.exp(1j*(np.pi/M+msg*(2*np.pi/M)))\n",
        "# pluse shaping \n",
        "beta = 0.4\n",
        "span = 8\n",
        "sps = 16\n",
        "rrc = rrcosdesign(beta, span, sps)\n",
        "sig_up = upsample(sig_mod, sps)\n",
        "sig_pulse = np.convolve(sig_up, rrc)\n",
        "# plt.plot(sig_pulse.real)\n",
        "# plt.plot(sig_pulse.imag)\n",
        "# plt.show()\n",
        "\n",
        "\n",
        "# up convert\n",
        "fc = 7.1e3\n",
        "baud = 1e3\n",
        "fs = baud*sps # 24kHz\n",
        "samp_len = len(sig_pulse)\n",
        "time = np.arange(samp_len)/fs\n",
        "carrier = np.exp(1j*(2*np.pi*fc*time))\n",
        "sig_pass = np.real(sig_pulse*carrier)"
      ],
      "execution_count": 0,
      "outputs": []
    },
    {
      "metadata": {
        "id": "jmeZMKbmMI--",
        "colab_type": "code",
        "colab": {}
      },
      "cell_type": "code",
      "source": [
        "# channel\n",
        "hp = np.zeros(5*32) # 5 ms\n",
        "hp[0], hp[38], hp[90], hp[127] = 1, 0.0, 0.0, 0.0\n",
        "# hp[0], hp[38], hp[90], hp[127] = 1, 0.0, 0.4, 0.3\n",
        "sig_ch = np.convolve(sig_pass, hp)[0:sig_pass.size]+ \\\n",
        "        0.3*np.random.randn(sig_pass.size)\n",
        "# plt.plot(hp)\n",
        "# plt.show()"
      ],
      "execution_count": 0,
      "outputs": []
    },
    {
      "metadata": {
        "id": "-caaiCzI7ZK_",
        "colab_type": "code",
        "colab": {
          "base_uri": "https://localhost:8080/",
          "height": 400
        },
        "outputId": "0423fadb-7605-482c-dfa9-2d42b6fd0d56"
      },
      "cell_type": "code",
      "source": [
        "# receiver side\n",
        "# down convert to baseband\n",
        "sig_base = sig_ch*np.conj(carrier)\n",
        "# sig_filt = sig.upfirdn(rrc, sig_base)\n",
        "# sig_dn = sig.upfirdn(rrc, sig_base, 1, sps)[span:-span]\n",
        "\n",
        "sig_filt = np.convolve(sig_base, rrc)\n",
        "sig_timing = sig_filt[span*sps:-span*sps:sps]\n",
        "\n",
        "# plt.scatter(sig_base.real, sig_base.imag, marker='.')\n",
        "plt.scatter(sig_timing.real, sig_timing.imag, marker='.')\n",
        "plt.axis('equal')\n",
        "plt.title('Constellation diagram')\n",
        "# plt.ylim(-20, 20)\n",
        "# plt.xlim(-20, 20)\n",
        "plt.show()\n",
        "\n",
        "# deodulation\n",
        "demod  = demod_qpsk(sig_timing)[0]\n",
        "symb_err = np.sum(msg == demod)/SYMB\n",
        "symb_err\n",
        "# print(msg, demod)"
      ],
      "execution_count": 142,
      "outputs": [
        {
          "output_type": "display_data",
          "data": {
            "image/png": "[encoded data removed]",
            "text/plain": [
              "<matplotlib.figure.Figure at 0x7f4a2af031d0>"
            ]
          },
          "metadata": {
            "tags": []
          }
        },
        {
          "output_type": "execute_result",
          "data": {
            "text/plain": [
              "1.0"
            ]
          },
          "metadata": {
            "tags": []
          },
          "execution_count": 142
        }
      ]
    },
    {
      "metadata": {
        "id": "r9rTUiIeoaAv",
        "colab_type": "code",
        "colab": {}
      },
      "cell_type": "code",
      "source": [
        "from os import path\n",
        "from wheel.pep425tags import get_abbr_impl, get_impl_ver, get_abi_tag\n",
        "platform = '{}{}-{}'.format(get_abbr_impl(), get_impl_ver(), get_abi_tag())\n",
        "\n",
        "accelerator = 'cu90' if path.exists('/opt/bin/nvidia-smi') else 'cpu'\n",
        "\n",
        "!pip -q install http://download.pytorch.org/whl/{accelerator}/torch-0.4.0-{platform}-linux_x86_64.whl\n",
        "import torch\n",
        "from torch import nn\n",
        "device = torch.device(\"cuda:0\")\n",
        "dtype = torch.float\n",
        "LR = 1e-3 # learning rate"
      ],
      "execution_count": 0,
      "outputs": []
    },
    {
      "metadata": {
        "id": "S6WqIUahfVZH",
        "colab_type": "code",
        "colab": {}
      },
      "cell_type": "code",
      "source": [
        "class NET(nn.Module):\n",
        "    def __init__(self):\n",
        "        super(NET, self).__init__()\n",
        "        self.cnn = nn.Sequential(\n",
        "            nn.Conv1d(2, 64, 5),\n",
        "            nn.ReLU(),\n",
        "            nn.MaxPool1d(2),\n",
        "            nn.Conv1d(64, 32, 3),\n",
        "            nn.ReLU(),\n",
        "            nn.MaxPool1d(2),\n",
        "            nn.Conv1d(32, 16, 3),\n",
        "            nn.ReLU(),\n",
        "#             nn.MaxPool1d(2),\n",
        "#             nn.Conv1d(8, 8, 3),\n",
        "#             nn.ReLU(),\n",
        "            )\n",
        "\n",
        "        self.lin = nn.Linear(16*4, 2)\n",
        "\n",
        "    def forward(self, x_in):\n",
        "        cnn_out = self.cnn(x_in)\n",
        "        lin_out = self.lin(cnn_out.view(cnn_out.size(0), -1))\n",
        "        return lin_out\n",
        "\n",
        "net = NET()\n",
        "net.cuda()\n",
        "    \n",
        "optimizer = torch.optim.Adam(net.parameters(), lr=LR)   # optimize all cnn parameters\n",
        "# loss_func = nn.CrossEntropyLoss()\n",
        "# target = torch.tensor(msg, device=device, dtype=torch.long)\n",
        "loss_func = nn.MSELoss()\n",
        "\n"
      ],
      "execution_count": 0,
      "outputs": []
    },
    {
      "metadata": {
        "id": "B_ixyX9hyoUN",
        "colab_type": "code",
        "colab": {
          "base_uri": "https://localhost:8080/",
          "height": 213
        },
        "outputId": "c4fd3aae-7595-4117-bab5-57a5d3854797"
      },
      "cell_type": "code",
      "source": [
        "# training\n",
        "rec = np.zeros((SYMB, 2, 32))\n",
        "for epoch in range(100):\n",
        "    msg = np.random.randint(0, M, SYMB)\n",
        "    sig_mod = np.exp(1j*(np.pi/M+msg*(2*np.pi/M)))\n",
        "    sig_up = upsample(sig_mod, sps)\n",
        "    sig_pulse = np.convolve(sig_up, rrc)\n",
        "    sig_pass = np.real(sig_pulse*carrier)\n",
        "    sig_ch = np.convolve(sig_pass, hp)[0:sig_pass.size]+ \\\n",
        "        0.5*np.random.randn(sig_pass.size)\n",
        "    sig_base = sig_ch*np.conj(carrier)\n",
        "    for symb_ind in range(SYMB):\n",
        "        rec[symb_ind, 0, :] = sig_base[symb_ind: symb_ind+32].real\n",
        "        rec[symb_ind, 1, :] = sig_base[symb_ind: symb_ind+32].imag\n",
        "    rec_ts = torch.tensor(rec, device=device, dtype=dtype)/10\n",
        "    \n",
        "    \n",
        "    net_out = net(rec_ts)\n",
        "    target = torch.tensor([sig_mod.real, sig_mod.imag], \n",
        "                          dtype=dtype, device=device).transpose(0, 1)\n",
        "    loss = loss_func(net_out, target)\n",
        "    optimizer.zero_grad()               # clear gradients for this training step\n",
        "    loss.backward()                     # backpropagation, compute gradients\n",
        "    optimizer.step()\n",
        "    \n",
        "    if epoch%10 == 0:\n",
        "#         prediction = torch.max(nn.functional.softmax(est, 1), 1)[1]\n",
        "#         accu = torch.sum(prediction == target).item()/prediction.size(0)\n",
        "#         print('Epoch:', epoch, 'accuracy:', accu)\n",
        "        \n",
        "        print('MSE: %7.3f'% loss.item())\n",
        "# \n"
      ],
      "execution_count": 145,
      "outputs": [
        {
          "output_type": "stream",
          "text": [
            "MSE:   0.500\n",
            "MSE:   0.500\n",
            "MSE:   0.500\n",
            "MSE:   0.500\n",
            "MSE:   0.500\n",
            "MSE:   0.500\n",
            "MSE:   0.500\n",
            "MSE:   0.500\n",
            "MSE:   0.500\n",
            "MSE:   0.500\n"
          ],
          "name": "stdout"
        }
      ]
    },
    {
      "metadata": {
        "id": "AlY7s-Z9fk4y",
        "colab_type": "code",
        "colab": {
          "base_uri": "https://localhost:8080/",
          "height": 382
        },
        "outputId": "64be75b6-cd4e-43bd-e1d7-f4195c4cab4f"
      },
      "cell_type": "code",
      "source": [
        "# net_out = net(rec)\n",
        "# plt.scatter(net_out[:, 0].detach().cpu().numpy(), \n",
        "#             net_out[:, 1].detach().cpu().numpy(), marker='.')\n",
        "\n",
        "plt.scatter(sig_base[symb_ind: symb_ind+320].real,\n",
        "            sig_base[symb_ind: symb_ind+320].imag, marker='.')\n",
        "plt.axis('equal')\n",
        "plt.title('Constellation diagram')\n",
        "# plt.ylim(-20, 20)\n",
        "# plt.xlim(-20, 20)\n",
        "plt.show()"
      ],
      "execution_count": 146,
      "outputs": [
        {
          "output_type": "display_data",
          "data": {
            "image/png": "[encoded data removed]",
            "text/plain": [
              "<matplotlib.figure.Figure at 0x7f4a2b3e1898>"
            ]
          },
          "metadata": {
            "tags": []
          }
        }
      ]
    },
    {
      "metadata": {
        "id": "MGzHDpF1fHoj",
        "colab_type": "code",
        "colab": {
          "base_uri": "https://localhost:8080/",
          "height": 116
        },
        "outputId": "fe09c6fd-1109-4ac7-eb4a-a8559a78860d"
      },
      "cell_type": "code",
      "source": [
        "rec_ts.shape"
      ],
      "execution_count": 111,
      "outputs": [
        {
          "output_type": "execute_result",
          "data": {
            "text/plain": [
              "torch.Size([1000, 2, 32])"
            ]
          },
          "metadata": {
            "tags": []
          },
          "execution_count": 111
        }
      ]
    },
    {
      "metadata": {
        "id": "C7yJJp8FGZXp",
        "colab_type": "code",
        "colab": {}
      },
      "cell_type": "code",
      "source": [
        ""
      ],
      "execution_count": 0,
      "outputs": []
    }
  ]
}