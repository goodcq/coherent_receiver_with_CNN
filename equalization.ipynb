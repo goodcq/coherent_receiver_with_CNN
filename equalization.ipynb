{
  "nbformat": 4,
  "nbformat_minor": 0,
  "metadata": {
    "colab": {
      "name": "equalization.ipynb",
      "version": "0.3.2",
      "provenance": []
    },
    "kernelspec": {
      "name": "python3",
      "display_name": "Python 3"
    },
    "accelerator": "GPU"
  },
  "cells": [
    {
      "cell_type": "markdown",
      "metadata": {
        "id": "view-in-github",
        "colab_type": "text"
      },
      "source": [
        "[View in Colaboratory](https://colab.research.google.com/github/planewave/coherent_receiver_with_CNN/blob/master/equalization.ipynb)"
      ]
    },
    {
      "metadata": {
        "id": "BJ1kM7UQan4C",
        "colab_type": "code",
        "colab": {}
      },
      "cell_type": "code",
      "source": [
        "import numpy as np\n",
        "import matplotlib.pyplot as plt\n",
        "# from matplotlib import pyplot as plt"
      ],
      "execution_count": 0,
      "outputs": []
    },
    {
      "metadata": {
        "id": "8IkAZQKaZ-2-",
        "colab_type": "code",
        "colab": {}
      },
      "cell_type": "code",
      "source": [
        "#@title\n",
        "def rrcosdesign(beta, span, sps):\n",
        "    \"\"\"\n",
        "    returns the coefficients, that correspond to a square-root raised \n",
        "    cosine FIR filter with rolloff factor specified by beta. The filter \n",
        "    is truncated to span symbols, and each symbol period contains sps \n",
        "    samples. The order of the filter, sps*span, must be even. \n",
        "    modified from:\n",
        "    https://github.com/veeresht/CommPy/blob/master/commpy/filters.py\n",
        "    \"\"\"\n",
        "    n = sps*span\n",
        "    rrc = np.zeros(n, dtype=float)\n",
        "        \n",
        "    for x in np.arange(n):\n",
        "        t = (x-n/2)/sps\n",
        "        if t == 0.0:\n",
        "            rrc[x] = 1.0 - beta + (4*beta/np.pi)\n",
        "        elif beta != 0 and t == 1/(4*beta):\n",
        "            rrc[x] = ((beta/np.sqrt(2))*(((1+2/np.pi)*(np.sin(np.pi/\n",
        "                     (4*beta)))) + ((1-2/np.pi)*(np.cos(np.pi/(4*beta))))))\n",
        "        elif beta != 0 and t == -1/(4*beta):\n",
        "            rrc[x] = ((beta/np.sqrt(2))*(((1+2/np.pi)*(np.sin(np.pi/\n",
        "                     (4*beta)))) + ((1-2/np.pi)*(np.cos(np.pi/(4*beta))))))\n",
        "        else:\n",
        "            rrc[x] = ((np.sin(np.pi*t*(1-beta))+4*beta*(t)*np.cos(np.pi*\n",
        "                     t*(1+beta)))/(np.pi*t*(1-(4*beta*t)*(4*beta*t))))\n",
        "        \n",
        "    return rrc\n",
        "\n",
        "def demod_qpsk(sig):\n",
        "    \"\"\"\n",
        "    demodulation of QPSK signal\n",
        "    complex 1D array input\n",
        "    soft max decision output\n",
        "    \"\"\"\n",
        "    out = np.zeros((sig.size, 4))\n",
        "    x = sig.real\n",
        "    y = sig.imag\n",
        "    out[:, 0] = y*(x>y)+x*(x<=y)\n",
        "    out[:, 1] = y*(-x>y)-x*(-x<=y)\n",
        "    out[:, 2] = -y*(-x>-y)-x*(-x<=-y)\n",
        "    out[:, 3] = -y*(x>-y)+x*(x<=-y)\n",
        "    e_x = np.exp(out-out.max(axis = 1).reshape(-1,1))\n",
        "    soft_dc = e_x/e_x.sum(axis = 1).reshape(-1,1)\n",
        "    hard_dc = np.argmax(soft_dc, axis=1)\n",
        "    return hard_dc, soft_dc\n",
        "\n",
        "def upsample(x, n):\n",
        "    \"\"\"\n",
        "    increase sample rate by integer factor\n",
        "    y = upsample(x,n) increases the sample rate of x by \n",
        "    inserting n – 1 zeros between samples.\n",
        "    input is 1D numpy array\n",
        "    \n",
        "    \"\"\"\n",
        "    zo = np.zeros((len(x), n), dtype=x.dtype)\n",
        "    zo[:,0] += x\n",
        "    return zo.flatten()"
      ],
      "execution_count": 0,
      "outputs": []
    },
    {
      "metadata": {
        "id": "7sK94qW7bQZQ",
        "colab_type": "code",
        "colab": {}
      },
      "cell_type": "code",
      "source": [
        "M = 4\n",
        "SYMB = 100 # num of symbols\n",
        "msg = np.random.randint(0, M, SYMB)\n",
        "sig_mod = np.exp(1j*(np.pi/M+msg*(2*np.pi/M)))\n",
        "# pluse shaping \n",
        "beta = 0.4\n",
        "span = 8\n",
        "sps = 16\n",
        "rrc = rrcosdesign(beta, span, sps)\n",
        "sig_up = upsample(sig_mod, sps)\n",
        "sig_pulse = np.convolve(sig_up, rrc)\n",
        "# plt.plot(sig_pulse.real)\n",
        "# plt.plot(sig_pulse.imag)\n",
        "# plt.show()\n",
        "\n",
        "\n",
        "# up convert\n",
        "fc = 7.1e3\n",
        "baud = 1e3\n",
        "fs = baud*sps # 24kHz\n",
        "samp_len = len(sig_pulse)\n",
        "time = np.arange(samp_len)/fs\n",
        "carrier = np.exp(1j*(2*np.pi*fc*time))\n",
        "sig_pass = np.real(sig_pulse*carrier)"
      ],
      "execution_count": 0,
      "outputs": []
    },
    {
      "metadata": {
        "id": "jmeZMKbmMI--",
        "colab_type": "code",
        "colab": {}
      },
      "cell_type": "code",
      "source": [
        "# channel\n",
        "hp = np.zeros(5*32) # 5 ms\n",
        "hp[0], hp[38], hp[90], hp[127] = 1, 0.7, 0.4, 0.3\n",
        "sig_ch = np.convolve(sig_pass, hp)[0:sig_pass.size]+ \\\n",
        "        0.5*np.random.randn(sig_pass.size)\n",
        "# plt.plot(hp)\n",
        "# plt.show()"
      ],
      "execution_count": 0,
      "outputs": []
    },
    {
      "metadata": {
        "id": "-caaiCzI7ZK_",
        "colab_type": "code",
        "colab": {
          "base_uri": "https://localhost:8080/",
          "height": 380
        },
        "outputId": "9f195c21-5930-4e40-f868-cdbaaf499046"
      },
      "cell_type": "code",
      "source": [
        "# receiver side\n",
        "# down convert to baseband\n",
        "sig_base = sig_ch*np.conj(carrier)\n",
        "# sig_filt = sig.upfirdn(rrc, sig_base)\n",
        "# sig_dn = sig.upfirdn(rrc, sig_base, 1, sps)[span:-span]\n",
        "\n",
        "sig_filt = np.convolve(sig_base, rrc)\n",
        "sig_timing = sig_filt[span*sps:-span*sps:sps]\n",
        "\n",
        "\n",
        "plt.scatter(sig_timing.real, sig_timing.imag, marker='.')\n",
        "plt.axis('equal')\n",
        "plt.title('Constellation diagram')\n",
        "# plt.ylim(-20, 20)\n",
        "# plt.xlim(-20, 20)\n",
        "plt.show()\n",
        "\n",
        "# deodulation\n",
        "demod  = demod_qpsk(sig_timing)[0]\n",
        "symb_err = np.sum(msg == demod)/SYMB\n",
        "symb_err\n",
        "# print(msg, demod)"
      ],
      "execution_count": 24,
      "outputs": [
        {
          "output_type": "display_data",
          "data": {
            "image/png": "[encoded data removed]",
            "text/plain": [
              "<matplotlib.figure.Figure at 0x7f0b86405240>"
            ]
          },
          "metadata": {
            "tags": []
          }
        },
        {
          "output_type": "execute_result",
          "data": {
            "text/plain": [
              "0.86"
            ]
          },
          "metadata": {
            "tags": []
          },
          "execution_count": 24
        }
      ]
    },
    {
      "metadata": {
        "id": "r9rTUiIeoaAv",
        "colab_type": "code",
        "colab": {
          "base_uri": "https://localhost:8080/",
          "height": 55
        },
        "outputId": "ae43dea2-8f4a-4d4a-e56d-80fdaa08928e"
      },
      "cell_type": "code",
      "source": [
        "from os import path\n",
        "from wheel.pep425tags import get_abbr_impl, get_impl_ver, get_abi_tag\n",
        "platform = '{}{}-{}'.format(get_abbr_impl(), get_impl_ver(), get_abi_tag())\n",
        "\n",
        "accelerator = 'cu90' if path.exists('/opt/bin/nvidia-smi') else 'cpu'\n",
        "\n",
        "!pip -q install http://download.pytorch.org/whl/{accelerator}/torch-0.4.0-{platform}-linux_x86_64.whl torchvision\n",
        "import torch"
      ],
      "execution_count": 7,
      "outputs": [
        {
          "output_type": "stream",
          "text": [
            "tcmalloc: large alloc 1073750016 bytes == 0x5d592000 @  0x7f481497a1c4 0x46d6a4 0x5fcbcc 0x4c494d 0x54f3c4 0x553aaf 0x54e4c8 0x54f4f6 0x553aaf 0x54efc1 0x54f24d 0x553aaf 0x54efc1 0x54f24d 0x553aaf 0x54efc1 0x54f24d 0x551ee0 0x54e4c8 0x54f4f6 0x553aaf 0x54efc1 0x54f24d 0x551ee0 0x54efc1 0x54f24d 0x551ee0 0x54e4c8 0x54f4f6 0x553aaf 0x54e4c8\r\n"
          ],
          "name": "stdout"
        }
      ]
    },
    {
      "metadata": {
        "id": "lMrIKh1FrtMM",
        "colab_type": "code",
        "colab": {}
      },
      "cell_type": "code",
      "source": [
        "# delay = int(span*sps/2)\n",
        "# step = int(sps/4)\n",
        "# sig_ch[delay : -delay : step].shape\n",
        "# sig_ch[0 : -1 : step].shape\n",
        "# sig_ch.dtype\n",
        "\n",
        "device = torch.device(\"cuda:0\")\n",
        "dtype = torch.float\n",
        "LR = 1e-3 # learning rate\n",
        "symb_ind = 11\n",
        "symb_in_cplx = sig_base[symb_ind: symb_ind+32]\n",
        "symb_in = np.array([symb_in_cplx.real, symb_in_cplx.imag])\n",
        "# symb_in = [symb_in.real, symb_in.imag]\n",
        "# symb_in.shape\n",
        "rec = torch.tensor(symb_in, device=device, dtype=dtype).view(1, 2, -1)"
      ],
      "execution_count": 0,
      "outputs": []
    },
    {
      "metadata": {
        "id": "S6WqIUahfVZH",
        "colab_type": "code",
        "colab": {}
      },
      "cell_type": "code",
      "source": [
        "class NET(nn.Module):\n",
        "    def __init__(self):\n",
        "        super(NET, self).__init__()\n",
        "        self.cnn = nn.Sequential(\n",
        "            nn.Conv1d(1, 16, 5),\n",
        "            nn.ReLU(),\n",
        "            nn.MaxPool1d(2),\n",
        "            nn.Conv1d(16, 16, 3),\n",
        "            nn.ReLU(),\n",
        "            nn.MaxPool1d(2),\n",
        "            nn.Conv1d(16, 8, 3),\n",
        "            nn.ReLU(),\n",
        "#             nn.MaxPool1d(2),\n",
        "#             nn.Conv1d(8, 8, 3),\n",
        "#             nn.ReLU(),\n",
        "            )\n",
        "\n",
        "        self.lin = nn.Linear(32, 1)\n",
        "\n",
        "    def forward(self, x_in):\n",
        "        cnn_out = self.cnn(x_in)\n",
        "        cfo = self.lin(cnn_out.view(cnn_out.size(0), -1))\n",
        "        return cfo\n",
        "\n",
        "net = NET()\n",
        "if CUDA:\n",
        "    cuda = torch.device('cuda:0')\n",
        "    net.cuda()\n",
        "#     data_rec = data_rec.cuda()\n",
        "#     offset = offset.cuda()\n",
        "    \n",
        "optimizer = torch.optim.Adam(net.parameters(), lr=LR)   # optimize all cnn parameters\n",
        "loss_func = nn.MSELoss()"
      ],
      "execution_count": 0,
      "outputs": []
    }
  ]
}