{
  "nbformat": 4,
  "nbformat_minor": 0,
  "metadata": {
    "colab": {
      "name": "equalization.ipynb",
      "version": "0.3.2",
      "provenance": [],
      "collapsed_sections": []
    },
    "kernelspec": {
      "name": "python3",
      "display_name": "Python 3"
    },
    "accelerator": "GPU"
  },
  "cells": [
    {
      "cell_type": "markdown",
      "metadata": {
        "id": "view-in-github",
        "colab_type": "text"
      },
      "source": [
        "[View in Colaboratory](https://colab.research.google.com/github/planewave/coherent_receiver_with_CNN/blob/master/equalization.ipynb)"
      ]
    },
    {
      "metadata": {
        "id": "BJ1kM7UQan4C",
        "colab_type": "code",
        "colab": {}
      },
      "cell_type": "code",
      "source": [
        "import numpy as np\n",
        "import matplotlib.pyplot as plt\n",
        "# from matplotlib import pyplot as plt"
      ],
      "execution_count": 0,
      "outputs": []
    },
    {
      "metadata": {
        "id": "8IkAZQKaZ-2-",
        "colab_type": "code",
        "colab": {}
      },
      "cell_type": "code",
      "source": [
        "#@title\n",
        "def rrcosdesign(beta, span, sps):\n",
        "    \"\"\"\n",
        "    returns the coefficients, that correspond to a square-root raised \n",
        "    cosine FIR filter with rolloff factor specified by beta. The filter \n",
        "    is truncated to span symbols, and each symbol period contains sps \n",
        "    samples. The order of the filter, sps*span, must be even. \n",
        "    modified from:\n",
        "    https://github.com/veeresht/CommPy/blob/master/commpy/filters.py\n",
        "    \"\"\"\n",
        "    n = sps*span\n",
        "    rrc = np.zeros(n, dtype=float)\n",
        "        \n",
        "    for x in np.arange(n):\n",
        "        t = (x-n/2)/sps\n",
        "        if t == 0.0:\n",
        "            rrc[x] = 1.0 - beta + (4*beta/np.pi)\n",
        "        elif beta != 0 and t == 1/(4*beta):\n",
        "            rrc[x] = ((beta/np.sqrt(2))*(((1+2/np.pi)*(np.sin(np.pi/\n",
        "                     (4*beta)))) + ((1-2/np.pi)*(np.cos(np.pi/(4*beta))))))\n",
        "        elif beta != 0 and t == -1/(4*beta):\n",
        "            rrc[x] = ((beta/np.sqrt(2))*(((1+2/np.pi)*(np.sin(np.pi/\n",
        "                     (4*beta)))) + ((1-2/np.pi)*(np.cos(np.pi/(4*beta))))))\n",
        "        else:\n",
        "            rrc[x] = ((np.sin(np.pi*t*(1-beta))+4*beta*(t)*np.cos(np.pi*\n",
        "                     t*(1+beta)))/(np.pi*t*(1-(4*beta*t)*(4*beta*t))))\n",
        "        \n",
        "    return rrc\n",
        "\n",
        "def demod_qpsk(sig):\n",
        "    \"\"\"\n",
        "    demodulation of QPSK signal\n",
        "    complex 1D array input\n",
        "    soft max decision output\n",
        "    \"\"\"\n",
        "    out = np.zeros((sig.size, 4))\n",
        "    x = sig.real\n",
        "    y = sig.imag\n",
        "    out[:, 0] = y*(x>y)+x*(x<=y)\n",
        "    out[:, 1] = y*(-x>y)-x*(-x<=y)\n",
        "    out[:, 2] = -y*(-x>-y)-x*(-x<=-y)\n",
        "    out[:, 3] = -y*(x>-y)+x*(x<=-y)\n",
        "    e_x = np.exp(out-out.max(axis = 1).reshape(-1,1))\n",
        "    soft_dc = e_x/e_x.sum(axis = 1).reshape(-1,1)\n",
        "    hard_dc = np.argmax(soft_dc, axis=1)\n",
        "    return hard_dc, soft_dc\n",
        "\n",
        "def upsample(x, n):\n",
        "    \"\"\"\n",
        "    increase sample rate by integer factor\n",
        "    y = upsample(x,n) increases the sample rate of x by \n",
        "    inserting n – 1 zeros between samples.\n",
        "    input is 1D numpy array\n",
        "    \n",
        "    \"\"\"\n",
        "    zo = np.zeros((len(x), n), dtype=x.dtype)\n",
        "    zo[:,0] += x\n",
        "    return zo.flatten()"
      ],
      "execution_count": 0,
      "outputs": []
    },
    {
      "metadata": {
        "id": "7sK94qW7bQZQ",
        "colab_type": "code",
        "colab": {}
      },
      "cell_type": "code",
      "source": [
        "M = 4\n",
        "SYMB = 512 # num of symbols\n",
        "msg = np.random.randint(0, M, SYMB)\n",
        "sig_mod = np.exp(1j*(np.pi/M+msg*(2*np.pi/M)))\n",
        "# pluse shaping \n",
        "beta = 0.4\n",
        "span = 8\n",
        "sps = 16\n",
        "rrc = rrcosdesign(beta, span, sps)\n",
        "sig_up = upsample(sig_mod, sps)\n",
        "sig_pulse = np.convolve(sig_up, rrc)\n",
        "# plt.plot(sig_pulse.real)\n",
        "# plt.plot(sig_pulse.imag)\n",
        "# plt.show()\n",
        "\n",
        "\n",
        "# up convert\n",
        "fc = 7.1e3\n",
        "baud = 1e3\n",
        "fs = baud*sps # 24kHz\n",
        "samp_len = len(sig_pulse)\n",
        "time = np.arange(samp_len)/fs\n",
        "carrier = np.exp(1j*(2*np.pi*fc*time))\n",
        "sig_pass = np.real(sig_pulse*carrier)"
      ],
      "execution_count": 0,
      "outputs": []
    },
    {
      "metadata": {
        "id": "jmeZMKbmMI--",
        "colab_type": "code",
        "colab": {}
      },
      "cell_type": "code",
      "source": [
        "# channel\n",
        "hp = np.zeros(5*32) # 5 ms\n",
        "hp[0], hp[38], hp[90], hp[127] = 1, 0.0, 0.0, 0.0\n",
        "hp[0], hp[38], hp[90], hp[127] = 1, 0.4, 0.6, 0.3\n",
        "sig_ch = np.convolve(sig_pass, hp)[0:sig_pass.size]+ \\\n",
        "        0.3*np.random.randn(sig_pass.size)\n",
        "# plt.plot(hp)\n",
        "# plt.show()"
      ],
      "execution_count": 0,
      "outputs": []
    },
    {
      "metadata": {
        "id": "-caaiCzI7ZK_",
        "colab_type": "code",
        "colab": {
          "base_uri": "https://localhost:8080/",
          "height": 380
        },
        "outputId": "b66bf82a-d320-4cad-ab8c-1a3ebe36dbd1"
      },
      "cell_type": "code",
      "source": [
        "# receiver side\n",
        "# down convert to baseband\n",
        "sig_base = sig_ch*np.conj(carrier)\n",
        "# sig_filt = sig.upfirdn(rrc, sig_base)\n",
        "# sig_dn = sig.upfirdn(rrc, sig_base, 1, sps)[span:-span]\n",
        "\n",
        "sig_filt = np.convolve(sig_base, rrc)\n",
        "sig_timing = sig_filt[span*sps:-span*sps:sps]\n",
        "\n",
        "# plt.scatter(sig_base.real, sig_base.imag, marker='.')\n",
        "plt.scatter(sig_timing.real, sig_timing.imag, marker='.')\n",
        "plt.axis('equal')\n",
        "plt.title('Constellation diagram')\n",
        "# plt.ylim(-20, 20)\n",
        "# plt.xlim(-20, 20)\n",
        "plt.show()\n",
        "\n",
        "# deodulation\n",
        "demod  = demod_qpsk(sig_timing)[0]\n",
        "symb_acc = np.sum(msg == demod)/SYMB\n",
        "symb_acc\n",
        "# print(msg, demod)"
      ],
      "execution_count": 5,
      "outputs": [
        {
          "output_type": "display_data",
          "data": {
            "image/png": "[encoded data removed]",
            "text/plain": [
              "<matplotlib.figure.Figure at 0x7fe60770ea58>"
            ]
          },
          "metadata": {
            "tags": []
          }
        },
        {
          "output_type": "execute_result",
          "data": {
            "text/plain": [
              "0.85546875"
            ]
          },
          "metadata": {
            "tags": []
          },
          "execution_count": 5
        }
      ]
    },
    {
      "metadata": {
        "id": "r9rTUiIeoaAv",
        "colab_type": "code",
        "colab": {
          "base_uri": "https://localhost:8080/",
          "height": 55
        },
        "outputId": "715ce81e-14e1-4796-91c8-bc60282465eb"
      },
      "cell_type": "code",
      "source": [
        "from os import path\n",
        "from wheel.pep425tags import get_abbr_impl, get_impl_ver, get_abi_tag\n",
        "platform = '{}{}-{}'.format(get_abbr_impl(), get_impl_ver(), get_abi_tag())\n",
        "\n",
        "accelerator = 'cu90' if path.exists('/opt/bin/nvidia-smi') else 'cpu'\n",
        "\n",
        "!pip -q install http://download.pytorch.org/whl/{accelerator}/torch-0.4.0-{platform}-linux_x86_64.whl\n",
        "import torch\n",
        "from torch import nn\n",
        "device = torch.device(\"cuda:0\")\n",
        "dtype = torch.float\n"
      ],
      "execution_count": 6,
      "outputs": [
        {
          "output_type": "stream",
          "text": [
            "tcmalloc: large alloc 1073750016 bytes == 0x5dc2e000 @  0x7f422fe591c4 0x46d6a4 0x5fcbcc 0x4c494d 0x54f3c4 0x553aaf 0x54e4c8 0x54f4f6 0x553aaf 0x54efc1 0x54f24d 0x553aaf 0x54efc1 0x54f24d 0x553aaf 0x54efc1 0x54f24d 0x551ee0 0x54e4c8 0x54f4f6 0x553aaf 0x54efc1 0x54f24d 0x551ee0 0x54efc1 0x54f24d 0x551ee0 0x54e4c8 0x54f4f6 0x553aaf 0x54e4c8\r\n"
          ],
          "name": "stdout"
        }
      ]
    },
    {
      "metadata": {
        "id": "S6WqIUahfVZH",
        "colab_type": "code",
        "colab": {}
      },
      "cell_type": "code",
      "source": [
        "class NET(nn.Module):\n",
        "    def __init__(self):\n",
        "        super(NET, self).__init__()\n",
        "        self.cnn = nn.Sequential(\n",
        "            nn.Conv1d(2, 32, 5, 1, 2),\n",
        "            nn.ReLU(),\n",
        "#             nn.MaxPool1d(2),\n",
        "            nn.Conv1d(32, 32, 5, 1, 2),\n",
        "            nn.ReLU(),\n",
        "            nn.MaxPool1d(2),\n",
        "            nn.Conv1d(32, 32, 3, 1, 1),\n",
        "            nn.ReLU(),\n",
        "            nn.MaxPool1d(2),\n",
        "            nn.Conv1d(32, 16, 3, 1, 1),\n",
        "            nn.ReLU(),\n",
        "            nn.MaxPool1d(2),\n",
        "            nn.Conv1d(16, 8, 3, 1, 1),\n",
        "            nn.ReLU(),\n",
        "            )\n",
        "\n",
        "        self.lin = nn.Linear(32, 2) # [512, 2]\n",
        "        self.feedback = nn.Linear(4, 1)\n",
        "\n",
        "    def forward(self, x_in, dcsn):\n",
        "        cnn_out = self.cnn(x_in)\n",
        "        lin_out = self.lin(cnn_out.view(cnn_out.size(0), -1))\n",
        "        return lin_out-self.feedback(dcsn).squeeze() # [512, 2, 1] -> [512, 2]\n",
        "\n",
        "net = NET()\n",
        "net.cuda()\n",
        "LR = 1e-4 # learning rate    \n",
        "optimizer = torch.optim.Adam(net.parameters(), lr=LR)   # optimize all cnn parameters\n",
        "# loss_func = nn.CrossEntropyLoss()\n",
        "# target = torch.tensor(msg, device=device, dtype=torch.long)\n",
        "loss_func = nn.MSELoss()\n",
        "\n"
      ],
      "execution_count": 0,
      "outputs": []
    },
    {
      "metadata": {
        "id": "qTtr883KrAFL",
        "colab_type": "code",
        "colab": {
          "base_uri": "https://localhost:8080/",
          "height": 35
        },
        "outputId": "d5370b0d-5a41-4131-b8e3-ac954f3c004f"
      },
      "cell_type": "code",
      "source": [
        "cnn = nn.Sequential(\n",
        "    nn.Conv1d(2, 32, 5, 1, 2),\n",
        "    nn.ReLU(),\n",
        "    nn.MaxPool1d(2),\n",
        "    nn.Conv1d(32, 32, 5, 1, 2),\n",
        "    nn.ReLU(),\n",
        "    nn.MaxPool1d(2),\n",
        "    nn.Conv1d(32, 16, 3, 1, 1),\n",
        "    nn.ReLU(),\n",
        "    nn.MaxPool1d(2),\n",
        "    nn.Conv1d(16, 8, 3, 1, 1),\n",
        "    nn.ReLU(),\n",
        "    ).cuda()\n",
        "\n",
        "feedback = nn.Linear(4, 1).cuda()\n",
        "feedback(dcsn_in_ts).shape\n",
        "# cnn(net_in_ts).shape\n",
        "# dcsn_in_ts.shape"
      ],
      "execution_count": 17,
      "outputs": [
        {
          "output_type": "execute_result",
          "data": {
            "text/plain": [
              "torch.Size([512, 2, 1])"
            ]
          },
          "metadata": {
            "tags": []
          },
          "execution_count": 17
        }
      ]
    },
    {
      "metadata": {
        "id": "B_ixyX9hyoUN",
        "colab_type": "code",
        "colab": {
          "base_uri": "https://localhost:8080/",
          "height": 191
        },
        "outputId": "449ef737-bf8e-4f10-fb2d-c4d0e15321cd"
      },
      "cell_type": "code",
      "source": [
        "# training\n",
        "net_in = np.zeros((SYMB, 2, span*4)) # span*4: 4 samples per symbol is used\n",
        "dcsn_in = np.zeros((SYMB, 2, 4))\n",
        "step = int(sps/4) # for net_in down sampling\n",
        "for epoch in range(4000):\n",
        "    msg = np.random.randint(0, M, SYMB)\n",
        "    sig_mod = np.exp(1j*(np.pi/M+msg*(2*np.pi/M)))\n",
        "    sig_up = upsample(sig_mod, sps)\n",
        "    sig_pulse = np.convolve(sig_up, rrc)\n",
        "    sig_pass = np.real(sig_pulse*carrier)\n",
        "    sig_ch = np.convolve(sig_pass, hp)[0:sig_pass.size]+ \\\n",
        "        0.5*np.random.randn(sig_pass.size)\n",
        "    sig_base = sig_ch*np.conj(carrier)\n",
        "    sig_filt = np.convolve(sig_base, rrc)\n",
        "#     for symb_ind in range(SYMB):\n",
        "#         net_in[symb_ind, 0, :] = sig_base[symb_ind*sps: symb_ind*sps+span*sps: step].real\n",
        "#         net_in[symb_ind, 1, :] = sig_base[symb_ind*sps: symb_ind*sps+span*sps: step].imag\n",
        "    for symb_ind in range(SYMB):\n",
        "        net_in[symb_ind, 0, :] = sig_filt[64+symb_ind*sps:64+symb_ind*sps+span*sps:step].real\n",
        "        net_in[symb_ind, 1, :] = sig_filt[64+symb_ind*sps:64+symb_ind*sps+span*sps:step].imag\n",
        "    for symb_ind in range(4, SYMB):\n",
        "        dcsn_in[symb_ind, 0, :] = sig_mod[symb_ind-4:symb_ind].real\n",
        "        dcsn_in[symb_ind, 1, :] = sig_mod[symb_ind-4:symb_ind].imag\n",
        "        \n",
        "    net_in_ts = torch.tensor(net_in, device=device, dtype=dtype)/10\n",
        "    dcsn_in_ts = torch.tensor(dcsn_in, device=device, dtype=dtype)\n",
        "        \n",
        "    net_out = net(net_in_ts, dcsn_in_ts)\n",
        "    target = torch.tensor([sig_mod.real, sig_mod.imag], \n",
        "                          dtype=dtype, device=device).transpose(0, 1)\n",
        "    loss = loss_func(net_out, target)\n",
        "    optimizer.zero_grad()               # clear gradients for this training step\n",
        "    loss.backward()                     # backpropagation, compute gradients\n",
        "    optimizer.step()\n",
        "    \n",
        "    if epoch%400 == 0:\n",
        "#         prediction = torch.max(nn.functional.softmax(est, 1), 1)[1]\n",
        "#         accu = torch.sum(prediction == target).item()/prediction.size(0)\n",
        "#         print('Epoch:', epoch, 'accuracy:', accu)\n",
        "        \n",
        "        print('MSE: %7.3f'% loss.item())\n",
        "# \n"
      ],
      "execution_count": 33,
      "outputs": [
        {
          "output_type": "stream",
          "text": [
            "MSE:   0.091\n",
            "MSE:   0.079\n",
            "MSE:   0.084\n",
            "MSE:   0.085\n",
            "MSE:   0.087\n",
            "MSE:   0.081\n",
            "MSE:   0.074\n",
            "MSE:   0.081\n",
            "MSE:   0.078\n",
            "MSE:   0.082\n"
          ],
          "name": "stdout"
        }
      ]
    },
    {
      "metadata": {
        "id": "AlY7s-Z9fk4y",
        "colab_type": "code",
        "colab": {
          "base_uri": "https://localhost:8080/",
          "height": 380
        },
        "outputId": "19a5fdf2-cd1e-4c0c-9b47-df14ef9c9755"
      },
      "cell_type": "code",
      "source": [
        "# net_out = net(rec)\n",
        "out_r = net_out[:, 0].detach().cpu().numpy()\n",
        "out_i = net_out[:, 1].detach().cpu().numpy()\n",
        "\n",
        "plt.scatter(out_r, out_i, marker='.')\n",
        "\n",
        "# plt.scatter(sig_base[symb_ind: symb_ind+320].real,\n",
        "#             sig_base[symb_ind: symb_ind+320].imag, marker='.')\n",
        "plt.axis('equal')\n",
        "plt.title('Constellation diagram')\n",
        "# plt.ylim(-20, 20)\n",
        "# plt.xlim(-20, 20)\n",
        "plt.show()\n",
        "\n",
        "# deodulation\n",
        "demod  = np.zeros_like(msg)\n",
        "for ind in range(SYMB):\n",
        "    if out_r[ind] >= 0:\n",
        "        demod[ind] = 0 if out_i[ind] >= 0 else 3\n",
        "    else:\n",
        "        demod[ind] = 1 if out_i[ind] >= 0 else 2\n",
        "        \n",
        "                \n",
        "symb_acc = np.sum(msg == demod)/SYMB\n",
        "print('accuracy: %7.3f'%symb_acc)"
      ],
      "execution_count": 34,
      "outputs": [
        {
          "output_type": "display_data",
          "data": {
            "image/png": "[encoded data removed]",
            "text/plain": [
              "<matplotlib.figure.Figure at 0x7fe57aaaec88>"
            ]
          },
          "metadata": {
            "tags": []
          }
        },
        {
          "output_type": "stream",
          "text": [
            "accuracy:   0.949\n"
          ],
          "name": "stdout"
        }
      ]
    },
    {
      "metadata": {
        "id": "Mv6CWhw3WwSk",
        "colab_type": "code",
        "colab": {
          "base_uri": "https://localhost:8080/",
          "height": 380
        },
        "outputId": "acb7bbf1-e9a1-4852-f3b7-4bac67042118"
      },
      "cell_type": "code",
      "source": [
        "# no equalization\n",
        "# plt.scatter(out_r, out_i, marker='.')\n",
        "\n",
        "sig_timing = sig_filt[span*sps:-span*sps:sps]\n",
        "\n",
        "plt.scatter(sig_timing.real, sig_timing.imag, marker='.')\n",
        "plt.axis('equal')\n",
        "plt.title('Constellation diagram')\n",
        "# plt.ylim(-20, 20)\n",
        "# plt.xlim(-20, 20)\n",
        "plt.show()\n",
        "\n",
        "# deodulation\n",
        "demod  = np.zeros_like(msg)\n",
        "for ind in range(SYMB):\n",
        "    if out_r[ind] >= 0:\n",
        "        demod[ind] = 0 if out_i[ind] >= 0 else 3\n",
        "    else:\n",
        "        demod[ind] = 1 if out_i[ind] >= 0 else 2\n",
        "        \n",
        "                \n",
        "demod  = demod_qpsk(sig_timing)[0]\n",
        "symb_acc = np.sum(msg == demod)/SYMB\n",
        "symb_acc"
      ],
      "execution_count": 25,
      "outputs": [
        {
          "output_type": "display_data",
          "data": {
            "image/png": "[encoded data removed]",
            "text/plain": [
              "<matplotlib.figure.Figure at 0x7fe57c7e1e48>"
            ]
          },
          "metadata": {
            "tags": []
          }
        },
        {
          "output_type": "execute_result",
          "data": {
            "text/plain": [
              "0.80078125"
            ]
          },
          "metadata": {
            "tags": []
          },
          "execution_count": 25
        }
      ]
    },
    {
      "metadata": {
        "id": "PGXWFScZ3zKe",
        "colab_type": "code",
        "colab": {
          "base_uri": "https://localhost:8080/",
          "height": 52
        },
        "outputId": "e87de5f0-d7cc-4227-afb3-f7a9ed203fae"
      },
      "cell_type": "code",
      "source": [
        "sig_mod[-4:-1:]\n"
      ],
      "execution_count": 195,
      "outputs": [
        {
          "output_type": "execute_result",
          "data": {
            "text/plain": [
              "array([ 0.70710678-0.70710678j,  0.70710678+0.70710678j,\n",
              "       -0.70710678+0.70710678j])"
            ]
          },
          "metadata": {
            "tags": []
          },
          "execution_count": 195
        }
      ]
    }
  ]
}