{
  "nbformat": 4,
  "nbformat_minor": 0,
  "metadata": {
    "colab": {
      "name": "equalization.ipynb",
      "version": "0.3.2",
      "provenance": []
    },
    "kernelspec": {
      "name": "python3",
      "display_name": "Python 3"
    }
  },
  "cells": [
    {
      "cell_type": "markdown",
      "metadata": {
        "id": "view-in-github",
        "colab_type": "text"
      },
      "source": [
        "[View in Colaboratory](https://colab.research.google.com/github/planewave/coherent_receiver_with_CNN/blob/master/equalization.ipynb)"
      ]
    },
    {
      "metadata": {
        "id": "BJ1kM7UQan4C",
        "colab_type": "code",
        "colab": {}
      },
      "cell_type": "code",
      "source": [
        "import numpy as np\n",
        "import scipy.signal as sig\n",
        "import matplotlib.pyplot as plt\n",
        "# from matplotlib import pyplot as plt"
      ],
      "execution_count": 0,
      "outputs": []
    },
    {
      "metadata": {
        "id": "8IkAZQKaZ-2-",
        "colab_type": "code",
        "colab": {}
      },
      "cell_type": "code",
      "source": [
        "#@title\n",
        "def rrcosdesign(beta, span, sps):\n",
        "    \"\"\"\n",
        "    returns the coefficients, that correspond to a square-root raised \n",
        "    cosine FIR filter with rolloff factor specified by beta. The filter \n",
        "    is truncated to span symbols, and each symbol period contains sps \n",
        "    samples. The order of the filter, sps*span, must be even. \n",
        "    modified from:\n",
        "    https://github.com/veeresht/CommPy/blob/master/commpy/filters.py\n",
        "    \"\"\"\n",
        "    n = sps*span\n",
        "    rrc = np.zeros(n, dtype=float)\n",
        "        \n",
        "    for x in np.arange(n):\n",
        "        t = (x-n/2)/sps\n",
        "        if t == 0.0:\n",
        "            rrc[x] = 1.0 - beta + (4*beta/np.pi)\n",
        "        elif beta != 0 and t == 1/(4*beta):\n",
        "            rrc[x] = ((beta/np.sqrt(2))*(((1+2/np.pi)*(np.sin(np.pi/\n",
        "                     (4*beta)))) + ((1-2/np.pi)*(np.cos(np.pi/(4*beta))))))\n",
        "        elif beta != 0 and t == -1/(4*beta):\n",
        "            rrc[x] = ((beta/np.sqrt(2))*(((1+2/np.pi)*(np.sin(np.pi/\n",
        "                     (4*beta)))) + ((1-2/np.pi)*(np.cos(np.pi/(4*beta))))))\n",
        "        else:\n",
        "            rrc[x] = ((np.sin(np.pi*t*(1-beta))+4*beta*(t)*np.cos(np.pi*\n",
        "                     t*(1+beta)))/(np.pi*t*(1-(4*beta*t)*(4*beta*t))))\n",
        "        \n",
        "    return rrc\n",
        "\n",
        "def demod_qpsk(sig):\n",
        "    \"\"\"\n",
        "    demodulation of QPSK signal\n",
        "    complex 1D array input\n",
        "    soft max decision output\n",
        "    \"\"\"\n",
        "    out = np.zeros((sig.size, 4))\n",
        "    x = sig.real\n",
        "    y = sig.imag\n",
        "    out[:, 0] = y*(x>y)+x*(x<=y)\n",
        "    out[:, 1] = y*(-x>y)-x*(-x<=y)\n",
        "    out[:, 2] = -y*(-x>-y)-x*(-x<=-y)\n",
        "    out[:, 3] = -y*(x>-y)+x*(x<=-y)\n",
        "    e_x = np.exp(out-out.max(axis = 1).reshape(-1,1))\n",
        "    soft_dc = e_x/e_x.sum(axis = 1).reshape(-1,1)\n",
        "    hard_dc = np.argmax(soft_dc, axis=1)\n",
        "    return hard_dc, soft_dc"
      ],
      "execution_count": 0,
      "outputs": []
    },
    {
      "metadata": {
        "id": "7sK94qW7bQZQ",
        "colab_type": "code",
        "colab": {
          "base_uri": "https://localhost:8080/",
          "height": 380
        },
        "outputId": "d497a115-880e-4eef-91ef-4395269b5431"
      },
      "cell_type": "code",
      "source": [
        "M = 4\n",
        "SYMB = 20 # num of symbols\n",
        "msg = np.random.randint(0, M, SYMB)\n",
        "sig_mod = np.exp(1j*(np.pi/M+msg*(2*np.pi/M)))\n",
        "# pluse shaping \n",
        "beta = 0.4\n",
        "span = 6\n",
        "sps = 32\n",
        "rrc = rrcosdesign(beta, span, sps)\n",
        "sig_pulse = sig.upfirdn(rrc, sig_mod, sps)\n",
        "# up convert\n",
        "fc = 7.1e3\n",
        "baud = 1e3\n",
        "fs = baud*sps # 24kHz\n",
        "samp_len = len(sig_pulse)\n",
        "time = np.arange(samp_len)/fs\n",
        "carrier = np.exp(1j*(2*np.pi*fc*time))\n",
        "sig_pass = np.real(sig_pulse*carrier)\n",
        "\n",
        "sig_pass_noise = sig_pass + 0.5*np.random.randn(samp_len)\n",
        "\n",
        "# down convert\n",
        "sig_base = sig_pass_noise*np.conj(carrier)\n",
        "# sig_filt = sig.upfirdn(rrc, sig_base)\n",
        "sig_dn = sig.upfirdn(rrc, sig_base, 1, sps)[span:-span+1]\n",
        "\n",
        "plt.scatter(sig_dn.real, sig_dn.imag, marker='.')\n",
        "plt.axis('equal')\n",
        "plt.title('Constellation diagram')\n",
        "plt.show()\n",
        "\n",
        "# deodulation\n",
        "demod  = demod_qpsk(sig_dn)[0]\n",
        "\n",
        "print(msg, demod)"
      ],
      "execution_count": 87,
      "outputs": [
        {
          "output_type": "display_data",
          "data": {
            "image/png": "[encoded data removed]",
            "text/plain": [
              "<matplotlib.figure.Figure at 0x7fd5fca980b8>"
            ]
          },
          "metadata": {
            "tags": []
          }
        },
        {
          "output_type": "stream",
          "text": [
            "[1 2 2 0 1 0 2 1 3 2 2 2 1 3 1 1 0 0 0 0] [1 2 2 0 1 0 2 1 3 2 2 2 1 3 1 1 0 0 0 0]\n"
          ],
          "name": "stdout"
        }
      ]
    }
  ]
}